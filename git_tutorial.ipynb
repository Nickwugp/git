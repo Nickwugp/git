{
 "cells": [
  {
   "cell_type": "markdown",
   "metadata": {},
   "source": [
    "# Git Tutorial"
   ]
  },
  {
   "cell_type": "code",
   "execution_count": 1,
   "metadata": {
    "ExecuteTime": {
     "end_time": "2019-12-16T01:22:17.637406Z",
     "start_time": "2019-12-16T01:22:17.621402Z"
    },
    "collapsed": true
   },
   "outputs": [
    {
     "data": {
      "text/html": [
       "<video controls=\"\" preload=\"none\" width=\"900px\" height=\"600px\">\n",
       "      <source src=\"git commend-line.mp4\">\n",
       "</video>\n"
      ],
      "text/plain": [
       "<IPython.core.display.HTML object>"
      ]
     },
     "metadata": {},
     "output_type": "display_data"
    }
   ],
   "source": [
    "%%html\n",
    "<video controls=\"\" preload=\"none\" width=\"900px\" height=\"600px\">\n",
    "      <source src=\"git commend-line.mp4\">\n",
    "</video>"
   ]
  },
  {
   "cell_type": "markdown",
   "metadata": {},
   "source": [
    "## ***Common Workflows***\n",
    "\n",
    "+ Create a branch, edit some files and commit changes    \n",
    "\n",
    "```shell\n",
    "$ git branch b1  # create a new branch called b1\n",
    "$ git checkout b1  # switch to branch b1 \n",
    "# edit some files and save them\n",
    "$ git add -A  # staging all changes you've made\n",
    "$ git commit -m \"update branch b1\"\n",
    "```\n",
    "\n",
    "+ After commit push branch to remote\n",
    "\n",
    "```shell\n",
    "# -u: want to associate our local branch b1 with the remote branch b1\n",
    "# if remote doesn't have a b1, then b1 will be created.\n",
    "$ git push -u origin b1  # origin: remote repo\n",
    "$ git branch -a\n",
    "* b1\n",
    "  master\n",
    "  remotes/origin/HEAD -> origin/master\n",
    "  remotes/origin/b1\n",
    "  remotes/origin/master\n",
    "(base)\n",
    "```\n",
    "+ Merge a branch \n",
    "\n",
    "```shell\n",
    "$ git checkout master  # switch to master\n",
    "# pull all the changes down, if any changes were made by our collegues\n",
    "$ git pull origin master\n",
    "$ git branch --merged  # the branch we merged in\n",
    "$ git merge b1 master  # git merge <source> <destination>\n",
    "$ git push origin master\n",
    "$ git branch -d b1  # delete b1 locally\n",
    "$ git push origin --delete b1  # delete b1 on remote\n",
    "```\n",
    "+ Remove directory from git and local\n",
    "\n",
    "```shell\n",
    "$ git rm -r one-of-the-directories\n",
    "$ git commit -m \"Remove duplicated directory\"\n",
    "$ git push origin <your-git-branch>  # typically 'master', but not always\n",
    "```\n",
    "+ Example\n",
    "\n",
    "```shell\n",
    "$ git branch test  # create\n",
    "$ git checkout test  # switch\n",
    "$ git status  # checkout status\n",
    "$ git add -A  # staging\n",
    "$ git commit -m \"testing\"  # commit\n",
    "$ git push -u origin test  # push branch to remote repo\n",
    "$ git checkout master  # switch\n",
    "$ git pull origin master   # update to remote master\n",
    "$ git merge test  # merge\n",
    "$ git push origin master # push\n",
    "```"
   ]
  },
  {
   "cell_type": "markdown",
   "metadata": {
    "ExecuteTime": {
     "end_time": "2019-12-12T07:54:28.926854Z",
     "start_time": "2019-12-12T07:54:28.886848Z"
    }
   },
   "source": [
    "## ***Basic Workflow***\n",
    "```shell\n",
    "$ git status\n",
    "$ git diff ...\n",
    "$ git add ...\n",
    "$ git commit ...\n",
    "$ git log ...\n",
    "```"
   ]
  },
  {
   "cell_type": "markdown",
   "metadata": {},
   "source": [
    "```shell\n",
    "# path of working directory\n",
    "$ pwd \n",
    "\n",
    "# -a List all files, including those whose names begin with a dot.\n",
    "$ ls -a \n",
    "```"
   ]
  },
  {
   "cell_type": "markdown",
   "metadata": {},
   "source": [
    "### Staging area `git status`\n",
    "\n",
    "    How can I tell what I have changed?\n",
    "\n",
    "　　Git has a **staging area** in which it stores files with changes you want to save that haven't been saved yet. Putting files in the staging area is like putting things in a box, while **committing** those changes is like putting that box in the mail: you can add more things to the box or take things out as often as you want, but once you put it in the mail, you can't make further changes.\n",
    "\n",
    "![](staging.png)\n",
    "\n",
    "    Staging Area\n",
    "\n",
    "　　`git status` shows you which files are in this staging area, and which files have changes that haven't yet been put there. In order to compare the file as it currently is to what you last saved, you can use `git diff filename`. `git diff` without any filenames will show you all the changes in your repository, while `git diff directory` will show you the changes to the files in some directory.\n",
    "  \n",
    "```shell\n",
    "# Lists all new or modified files to be committed\n",
    "$ git status \n",
    "On branch master\n",
    "Changes not staged for commit:\n",
    " (use \"git add <file>...\" to update what will be committed\n",
    " (use \"git checkout -- <file>...\" to discard changes in working directory)\n",
    " \n",
    "         modified:  report.txt\n",
    "     \n",
    "no changes added to commit (use \"git add\" and/or \"git commit -a\")\n",
    "```"
   ]
  },
  {
   "cell_type": "markdown",
   "metadata": {},
   "source": [
    "### Revision of files `git diff <filename> `\n",
    "\n",
    "```shell\n",
    "$ git diff data/northern.csv\n",
    "diff --git a/report.txt b/report.txt\n",
    "index e713b17..4c0742a 100644\n",
    "--- a/report.txt\n",
    "+++ b/report.txt\n",
    "@@ -1,4 +1,5 @@\n",
    "-# Seasonal Dental Surgeries 2017-18\n",
    "+# Seasonal Dental Surgeries (2017) 2017-18\n",
    "+# TODO: write new summary\n",
    "\n",
    "```\n",
    "\n",
    "+ The command used to produce the output (in this case, `diff --git`). In it, ***`a` and `b` are placeholders meaning \"the first version\" and \"the second version\"***.\n",
    "+ An index line showing keys into **Git's internal database of changes**. We will explore these in the next chapter.\n",
    "+ `--- a/report.txt` and `+++ b/report.txt`, ***wherein lines being removed are prefixed with `-` and lines being added are prefixed with `+`***.\n",
    "+ A line starting with `@@` that tells where the changes are being made. ***The pairs of numbers are `start line` and `number of lines` ***(in that section of the file where changes occurred). This diff output indicates changes starting at line 1, with 5 lines where there were once 4.\n",
    "+ ***A line-by-line listing of the changes with `-` showing deletions and `+` showing additions (we have also configured Git to show deletions in red and additions in green)***. Lines that haven't changed are sometimes shown before and after the ones that have in order to give context; when they appear, they don't have either `+` or `-` in front of them.\n"
   ]
  },
  {
   "cell_type": "markdown",
   "metadata": {},
   "source": [
    "`$ git diff -r HEAD <filename>`    \n",
    "\n",
    "To compare the state of your files with those in the staging area, you can use `git diff -r HEAD`. **The `-r` flag means \"compare to a particular revision\"**, and **`HEAD` is a shortcut meaning \"the most recent commit\"**.\n",
    "\n",
    "```shell\n",
    "# compare to a most recent commit version\n",
    "$ git diff -r HEAD data/northern.csv\n",
    "# add northern.csv for staging\n",
    "$ git add data/northern.csv\n",
    "```"
   ]
  },
  {
   "cell_type": "markdown",
   "metadata": {},
   "source": [
    "### Add file to staging area `git add <filename>`, `git add -A  # stage all changes`\n",
    "You commit changes to a Git repository in two steps:\n",
    "1. Add one or more files to the staging area. `git add filename`\n",
    "2. Commit everything in the staging area.\n",
    "\n",
    "```shell\n",
    "\n",
    "$ git add report.txt\n",
    "$ git status\n",
    "On branch master\n",
    "Changes to be committed:\n",
    "  (use \"git reset HEAD <file>...\" to unstage)\n",
    "  \n",
    "      modified:  report.txt\n",
    "```"
   ]
  },
  {
   "cell_type": "markdown",
   "metadata": {
    "ExecuteTime": {
     "end_time": "2019-12-12T05:51:15.991709Z",
     "start_time": "2019-12-12T05:51:15.958708Z"
    }
   },
   "source": [
    "### Edit a file?  run editor \n",
    "\n",
    "```shell\n",
    "'Linux'\n",
    "# open filename with editor nano (linux)\n",
    "$ nano filename.txt\n",
    "\n",
    "'Windows'\n",
    "# open file with M.S. vscode editor\n",
    "> code filename.txt\n",
    "# with notepad++ editor\n",
    "> start notepad++ filename\n",
    "\n",
    "```"
   ]
  },
  {
   "cell_type": "markdown",
   "metadata": {},
   "source": [
    "### Commit changes with log message? `$ git commit [--amend] -m \"message\"`\n",
    "\n",
    "```shell\n",
    "# commit and leave a log message\n",
    "$ git commit -m \"original\"\n",
    "\n",
    "# If you accidentally mistype a commit message, you can change it using the --amend flag.\n",
    "$ git commit --amend -m \"new message\"\n",
    "\n",
    "# if commit with no message, a text editor will pop up, \n",
    "# then you can write some notes. \n",
    "$ git commit \n",
    "\n",
    "```"
   ]
  },
  {
   "cell_type": "markdown",
   "metadata": {},
   "source": [
    "### View a repository's history? `git log`\n",
    "\n",
    "```shell\n",
    "# view the log of the project's history\n",
    "# The commit line displays a unique ID for the commit called a hash;\n",
    "# Most recent log will be displayed first.\n",
    "$ git log\n",
    "commit 0430705487381195993bac9c21512ccfb511056d\n",
    "Author: Rep Loop <repl@datacamp.com>\n",
    "Date:   Wed Sep 20 13:42:26 2017 +0000\n",
    "\n",
    "    Added year to report title.\n",
    "... \n",
    "\n",
    "```\n",
    "\n",
    "### View a specific file's history? `git log <filename>`\n",
    "\n",
    "\n",
    "\n"
   ]
  },
  {
   "cell_type": "markdown",
   "metadata": {},
   "source": [
    "## ***Repositories***\n",
    "\n",
    "```shell\n",
    "$ git show ...\n",
    "$ git annotate ...\n",
    "$ git clean ...\n",
    "$ git config ...\n",
    "```"
   ]
  },
  {
   "cell_type": "markdown",
   "metadata": {},
   "source": [
    "### How does Git store information?\n",
    "\n",
    "You may wonder what information is stored by each commit that you make. Git uses a three-level structure for this.\n",
    "\n",
    "1. A commit contains metadata such as the author, the commit message, and the time the commit happened. In the diagram below, the most recent commit is at the bottom (`feed0098`), underneath its parent commits.\n",
    "2. Each commit also has a tree, which tracks the names and locations in the repository when that commit happened. In the oldest (top) commit, there were two files tracked by the repository.\n",
    "3. For each of the files listed in the tree, there is a blob. This contains a compressed snapshot of the contents of the file when the commit happened (blob is short for binary large object, which is a SQL database term for \"may contain data of any kind\"). In the middle commit, `report.md` and `draft.md` were changed, so the blobs are shown next to that commit. `data/northern.csv` didn't change in that commit, so the tree links to the blob from the previous commit. Reusing blobs between commits help make common operations fast and minimizes storage space.\n",
    "\n",
    "![](tree.png)"
   ]
  },
  {
   "cell_type": "markdown",
   "metadata": {
    "ExecuteTime": {
     "end_time": "2019-12-12T08:37:07.052468Z",
     "start_time": "2019-12-12T08:37:07.036466Z"
    }
   },
   "source": [
    "### what is hash\n",
    "\n",
    "Every commit to a repository has a unique identifier called a hash (since it is generated by running the changes through a pseudo-random number generator called a `hash function`). This hash is normally written as a 40-character hexadecimal string like `7c35a3ce607a14953f070f0f83b5d74c2296ef93`, but ***most of the time, you only have to give Git the first 6 or 8 characters in order to identify the commit you mean***.\n",
    "\n",
    "Hashes are what enable Git to share data efficiently between repositories. If two files are the same, their hashes are guaranteed to be the same. Similarly, if two commits contain the same files and have the same ancestors, their hashes will be the same as well. Git can therefore tell what information needs to be saved where by comparing hashes rather than comparing entire files."
   ]
  },
  {
   "cell_type": "markdown",
   "metadata": {},
   "source": [
    "### How can I view a specific commit?  `git show <hash string(first 6~8 characters)>`\n",
    "\n",
    ">press the `space` bar to page down through git log's output and `q` to quit the paged display."
   ]
  },
  {
   "cell_type": "markdown",
   "metadata": {},
   "source": [
    "### What is Git's equivalent of a relative path?  `git show HEAD~<number>`\n",
    "\n",
    "***A hash is like an absolute path: it identifies a specific commit. Another way to identify a commit is to use the equivalent of a relative path.*** The special label HEAD, which we saw in the previous chapter, always refers to the most recent commit.     \n",
    "***The label `HEAD~1` then refers to the commit before it, while `HEAD~2` refers to the commit before that, and so on.***\n",
    "\n",
    "\n",
    "```shell\n",
    "$ git show HEAD~1\n",
    "\n",
    "```"
   ]
  },
  {
   "cell_type": "markdown",
   "metadata": {},
   "source": [
    "### How can I see who changed what in a file?  `git annotate <filename>`\n",
    "\n",
    "`git log` displays the overall history of a project or file, but Git can give even more information. The command `git annotate file` shows who made the last change to each line of a file and when. For example, the first three lines of output from git annotate report.txt look something like this:\n",
    "\n",
    "```shell\n",
    "04307054        (  Rep Loop     2017-09-20 13:42:26 +0000       1)# Seasonal Dental Surgeries (2017) 2017-18\n",
    "5e6f92b6        (  Rep Loop     2017-09-20 13:42:26 +0000       2)\n",
    "5e6f92b6        (  Rep Loop     2017-09-20 13:42:26 +0000       3)TODO: write executive summary.\n",
    "```\n",
    "\n",
    "Each line contains five elements, with elements two to four enclosed in parentheses. When inspecting the first line, we see:\n",
    "\n",
    "+ The first eight digits of the hash, `04307054`.\n",
    "+ The author, `Rep Loop`.\n",
    "+ The time of the commit, `2017-09-20 13:42:26 +0000`.\n",
    "+ The line number, `1`.\n",
    "+ The contents of the line, `# Seasonal Dental Surgeries (2017) 2017-18`.\n",
    "\n",
    ">Count how many ***distinct hashes*** show up to figure out how many changes \n",
    "\n"
   ]
  },
  {
   "cell_type": "markdown",
   "metadata": {},
   "source": [
    "### How can I see what changed between two commits?  `git diff a..b  # a,b are placeholders`\n",
    "\n",
    "`git show` with a commit ID shows the changes made in a particular commit. To see the changes between two commits, you can use `git diff ID1..ID2`, where `ID1` and `ID2` identify the two commits you're interested in, and the connector `..` is a pair of dots. For example, `git diff abc123..def456` shows the differences between the commits `abc123` and `def456`, while `git diff HEAD~1..HEAD~3` shows the differences between the state of the repository one commit in the past and its state three commits in the past.\n",
    "\n",
    "Use `git diff` to view the differences between its current state and its state two commits previously.\n",
    "`$ git diff HEAD..HEAD~2`"
   ]
  },
  {
   "cell_type": "markdown",
   "metadata": {},
   "source": [
    "### How do I add new files? `git status`, `git add filename`, `git commit -m`\n",
    "\n",
    "Git does not track files by default. Instead, it waits until you have used `git add` at least once before it starts paying attention to a file.\n",
    "\n",
    "In the diagram you saw at the start of the chapter, the untracked files won't have a blob, and won't be listed in a tree.\n",
    "\n",
    "The untracked files won't benefit from version control, so to make sure you don't miss anything, `git status` will always tell you about files that are in your repository but aren't (yet) being tracked.\n",
    "\n",
    "```shell\n",
    "$ git status  # show untracked files and unstaged changes\n",
    "$ git add filename  # add filename to stage\n",
    "$ git commit -m \"message\"  # commit and send messages\n",
    "```"
   ]
  },
  {
   "cell_type": "markdown",
   "metadata": {},
   "source": [
    "### How do I tell Git to ignore certain files?  add ***wildcard pattern*** to a list from `.gitignore` \n",
    "\n",
    "You can tell it to stop paying attention to files you don't care about by creating a file in the root directory of your repository called `.gitignore` and storing a list of ***wildcard patterns*** that specify the files you don't want Git to pay attention to. For example, if `.gitignore` contains:\n",
    "\n",
    "    build\n",
    "    *.mpl\n",
    "\n",
    "then Git will ignore any file or directory called `build` (and, if it's a directory, anything in it), as well as any file whose name ends in `.mpl`."
   ]
  },
  {
   "cell_type": "markdown",
   "metadata": {},
   "source": [
    "### How can I remove unwanted files? `git clean -n`, `git clean -f`\n",
    "\n",
    "Git can help you clean up files that you have told it you don't want. The command `git clean -n` will show you a list of files that are in the repository, but **whose history Git is not currently tracking***. A similar command `git clean -f` will then delete those files.\n",
    "\n",
    "Use this command carefully: ***`git clean` only works on untracked files***, so by definition, their history has not been saved. If you delete them with `git clean -f`, they're gone for good.\n",
    "\n",
    "```shell\n",
    "$ git clean -n\n",
    "Would remove backup.log\n",
    "$ git clean -f\n",
    "Removing backup.log\n",
    "```"
   ]
  },
  {
   "cell_type": "markdown",
   "metadata": {},
   "source": [
    "### How can I see how Git is configured?  `git config --list`\n",
    "\n",
    "Like most complex pieces of software, Git allows you to change its default settings. To see what the settings are, you can use the command `git config --list` with one of three additional options:\n",
    "\n",
    "`--system`: settings for every user on this computer.\n",
    "`--global`: settings for every one of your projects.\n",
    "`--local`: settings for one specific project.\n",
    "\n",
    "Each level overrides the one above it, so ***local settings (per-project) take precedence over global settings (per-user), which in turn take precedence over system settings*** (for all users on the computer)."
   ]
  },
  {
   "cell_type": "markdown",
   "metadata": {},
   "source": [
    "### How can I change my Git configuration?  `git config --global setting value`\n",
    "\n",
    "Most of Git's settings should be left as they are. However, there are two you should set on every computer you use: your name and your email address. These are recorded in the log every time you commit a change, and are often used to identify the authors of a project's content in order to give credit (or assign blame, depending on the circumstances).\n",
    "\n",
    "To change a configuration value for all of your projects on a particular computer, run the command:\n",
    "\n",
    "`$ git config --global setting value`\n",
    "\n",
    "Using this command, you specify the `setting` you want to change and the `value` you want to set. The settings that identify your name and email address are `user.name` and `user.email`, respectively.\n",
    "\n",
    "```shell\n",
    "# change email address to nickwugp@outlook.com\n",
    "$ git config --global user.email nickwugp@outlook.com\n",
    "\n",
    "```\n",
    "\n"
   ]
  },
  {
   "cell_type": "markdown",
   "metadata": {},
   "source": [
    "## ***Undo***\n",
    "\n",
    "```shell\n",
    "$ git reset ...\n",
    "$ git checkout ...\n",
    "```"
   ]
  },
  {
   "cell_type": "markdown",
   "metadata": {},
   "source": [
    "### How can I commit changes selectively and unstage? `git add path/file`, `git reset HEAD # unstage (last time) changes `\n",
    "\n",
    "You don't have to put all of the changes you have made recently into the staging area at once. For example, suppose you are adding a feature to `analysis.R` and spot a bug in `cleanup.R`. After you have fixed it, you want to save your work. Since the changes to `cleanup.R` aren't directly related to the work you're doing in `analysis.R`, you should save your work in two separate commits.\n",
    "\n",
    "The syntax for staging a single file is `git add path/file`.\n",
    "\n",
    "If you make a mistake and accidentally stage a file you shouldn't have, you can unstage the additions with `git reset HEAD` and try again."
   ]
  },
  {
   "cell_type": "markdown",
   "metadata": {},
   "source": [
    "### How do I re-stage files?\n",
    "\n",
    "People often save their work every few minutes when they're using a desktop text editor. Similarly, it's common to use `git add` periodically to save the most recent changes to a file to the staging area. This is particularly useful when the changes are experimental and you might want to undo them without cluttering up the repository's history."
   ]
  },
  {
   "cell_type": "markdown",
   "metadata": {},
   "source": [
    "### How can I undo changes to unstaged files? `git checkout -- filename`\n",
    "\n",
    "Suppose you have made changes to a file, then decide you want to undo them. Your text editor may be able to do this, but a more reliable way is to let Git do the work. The command:\n",
    "\n",
    "`$ git checkout -- filename`\n",
    "\n",
    "***will discard the changes that have not yet been staged***. (The double dash `--` must be there to separate the `git checkout` command from the names of the file or files you want to recover.)\n",
    "\n",
    "Use this command carefully: once you discard changes in this way, they are gone forever."
   ]
  },
  {
   "cell_type": "markdown",
   "metadata": {},
   "source": [
    "### How can I undo changes to staged files?\n",
    "\n",
    "At the start of this chapter you saw that `git reset` will unstage files that you previously staged using `git add`. By combining `git reset` with `git checkout`, you can undo changes to a file that you staged changes to. The syntax is as follows.\n",
    "\n",
    "```shell\n",
    "$ git reset HEAD path/file\n",
    "$ git checkout -- path/file\n",
    "```"
   ]
  },
  {
   "cell_type": "markdown",
   "metadata": {},
   "source": [
    "### How do I restore an old version of a file? `git log [-number] [file]`, `git checkout [hash_string] [file]`\n",
    "\n",
    "You previously saw how to use `git checkout` to undo the changes that you made since the last commit. This command can also be used to go back even further into a file's history and restore versions of that file from a commit. In this way, you can think of committing as saving your work, and checking out as loading that saved version.\n",
    "\n",
    "***The syntax for restoring an old version takes two arguments: the hash that identifies the version you want to restore, and the name of the file.***\n",
    "\n",
    "```shell\n",
    "$ git log -2 report.txt # to show the hash strings of last 2 commits\n",
    "$ git checkout e4e401 report.txt  # replce the current version with e4e401 version\n",
    "$ cat file  # linux to display the file\n",
    "$ git commit -m \"commit an old version\"\n",
    "```"
   ]
  },
  {
   "cell_type": "markdown",
   "metadata": {},
   "source": [
    "### How can I undo all of the changes I have made?\n",
    "\n",
    "So far, you have seen how to undo changes to a single file at a time using `git reset HEAD path/file`. You will sometimes want to undo changes to many files.\n",
    "\n",
    "One way to do this is to give git reset a directory. For example, `git reset HEAD data` ***will unstage any files from the data directory***. Even better, ***if you don't provide any files or directories, it will unstage everything***. Even even better, ***HEAD is the default commit to unstage***, so you can simply write git reset to unstage everything.\n",
    "\n",
    "Similarly `git checkout -- data` will then restore the files in the data directory to their previous state.\n",
    "\n",
    "```shell\n",
    "$ git reset  # removing all files from staging area \n",
    "$ git checkout .  # . means all of the files in or below this directory\n",
    "```"
   ]
  },
  {
   "cell_type": "markdown",
   "metadata": {},
   "source": [
    "## ***Working with branches***\n",
    "\n",
    "```shell\n",
    "$ git branch \n",
    "```"
   ]
  },
  {
   "cell_type": "markdown",
   "metadata": {},
   "source": [
    "### What is a branch?\n",
    "\n",
    "If you don't use version control, a common workflow is to create different subdirectories to hold different versions of your project in different states, for example `development` and `final`. Of course, then you always end up with `final-updated` and `final-updated-revised` as well. The problem with this is that it becomes difficult to work out if you have the right version of each file in the right subdirectory, and you risk losing work.\n",
    "\n",
    "One of the reasons Git is popular is its support for creating ***branches***, which allows you to have multiple versions of your work, and lets you track each version systematically.\n",
    "\n",
    "Each branch is like a parallel universe: changes you make in one branch do not affect other branches (until you merge them back together)."
   ]
  },
  {
   "cell_type": "markdown",
   "metadata": {},
   "source": [
    "### How can I see what branches my repository has?  `git branch`\n",
    "\n",
    "By default, every Git repository has a branch called `master` (which is why you have been seeing that word in Git's output in previous lessons). To list all of the branches in a repository, you can run the command `git branch`. The branch you are currently in will be shown with a `*` beside its name.\n",
    "\n",
    "```shell\n",
    "$ git branch\n",
    "  alter-report-title\n",
    "* master\n",
    "  summary-statistics\n",
    "```"
   ]
  },
  {
   "cell_type": "markdown",
   "metadata": {},
   "source": [
    "### **How can I view the differences between branches?** `git diff revision-1..revision2`, `git diff branch-1..branch-2`\n",
    "\n",
    "Branches and revisions are closely connected, and commands that work on the latter usually work on the former. For example, just as `git diff revision-1..revision-2` ***shows the difference between two versions of a repository***, `git diff branch-1..branch-2` ***shows the difference between two branches***.\n",
    "\n",
    "```shell\n",
    "$ git branch\n",
    "  alter-report-title\n",
    "* master\n",
    "  summary-statistics\n",
    "\n",
    "$ git diff summary-statistics master\n",
    "\n",
    "```\n"
   ]
  },
  {
   "cell_type": "markdown",
   "metadata": {},
   "source": [
    "### How can I switch from one branch to another? `git checkout <branch name>`\n",
    "\n",
    "You previously used `git checkout` with a commit hash to switch the repository state to that hash. You can also use `git checkout` with the name of a branch to switch to that branch.\n",
    "\n",
    "Two notes:\n",
    "1. When you run `git branch`, it puts a `*` beside the name of the branch you are currently in.\n",
    "2. Git will only let you do this if all of your changes have been committed. You can get around this, but it is outside the scope of this course.\n",
    "\n",
    "`git rm` removes the file (just like the shell command `rm`) then stages the removal of that file with `git add`, all in one step.\n",
    "\n",
    "```shell\n",
    "$ git checkout summary-statistics\n",
    "Switched to branch 'summary-statistics'\n",
    "$ git rm report.txt\n",
    "rm 'report.txt'\n",
    "$ git commit --amend -m \"Removing report\"  # amend committed message to a new one\n",
    "... ...\n",
    "$ ls  # to check the file is gone\n",
    "... ...\n",
    "$ git checkout master  # switch back to master branch\n",
    "Switched to branch 'master'\n",
    "```"
   ]
  },
  {
   "cell_type": "markdown",
   "metadata": {},
   "source": [
    "### How can I create a branch? `git checkout -b <new branch>`\n",
    "\n",
    "You might expect that you would use `git branch` to create a branch, and indeed this is possible. However, the most common thing you want to do is to create a branch then switch to that branch.\n",
    "\n",
    "In the previous exercise, you used `git checkout branch-name` to switch to a branch. To create a branch then switch to it in one step, you add a -b flag, calling `git checkout -b branch-name`,\n",
    "\n",
    "The contents of the new branch are initially identical to the contents of the original. Once you start making changes, they only affect the new branch.\n",
    "\n",
    "```shell\n",
    "$ git checkout -b deleting-report\n",
    "Switch to a new branch 'deleting-report'\n",
    "$ git rm report.txt\n",
    "rm 'report.txt'\n",
    "$ git commit -m \"delet report\"\n",
    "... ...\n",
    "$ git diff master deleting-report\n",
    "... ...\n",
    "```"
   ]
  },
  {
   "cell_type": "markdown",
   "metadata": {},
   "source": [
    "### How can I merge two branches? `git merge <source> <destination>`\n",
    "\n",
    "Branching lets you create parallel universes; merging is how you bring them back together. When you merge one branch (call it the source) into another (call it the destination), Git incorporates the changes made to the source branch into the destination branch. If those changes don't overlap, the result is a new commit in the destination branch that includes everything from the source branch (the next exercises describe what happens if there are conflicts).\n",
    "\n",
    "To merge two branches, you run `git merge source destination` (without `..` between the two branch names). Git automatically opens an editor so that you can write a log message for the merge; you can either keep its default message or fill in something more informative.\n",
    "\n",
    "```shell\n",
    "# ... ... open a editor to write messages.\n",
    "$ git merge summary-statistics master\n",
    "```"
   ]
  },
  {
   "cell_type": "markdown",
   "metadata": {},
   "source": [
    "### What are conflicts?\n",
    "\n",
    "Sometimes the changes in two branches will conflict with each other: for example, bug fixes might touch the same lines of code, or analyses in two different branches may both append new (and different) records to a summary data file. In this case, Git relies on you to reconcile the conflicting changes.\n",
    "\n",
    "The file `todo.txt` initially contains these two lines:\n",
    "\n",
    "    A) Write report.\n",
    "    B) Submit report.\n",
    "\n",
    "You create a branch called `update` and modify the file to be:\n",
    "\n",
    "    A) Write report.\n",
    "    B) Submit final version.\n",
    "    C) Submit expenses.\n",
    "\n",
    "You then switch back to the `master` branch and delete the first line, so that the file contains:\n",
    "\n",
    "    B) Submit report.\n",
    "\n",
    "When you try to merge `update` and `master`, what conflicts does Git report? You can use `git diff master..update` to view the difference between the two branches.\n",
    "\n",
    "Possible Answers:  A\n",
    "\n",
    "    A. Just line B, since it is the only one to change in both branches.\n",
    "    B. Lines A and B, since one was deleted and the other changed.\n",
    "    C. Lines B and C, since one was changed and the other deleted.\n",
    "    D. All three lines, since all were either added, deleted, or changed."
   ]
  },
  {
   "cell_type": "markdown",
   "metadata": {},
   "source": [
    "### **How can I merge two branches with conflicts?** `git merge a b`, `git diff a b`, `git status`, `git add <file>`\n",
    "\n",
    "When there is a conflict during a merge, Git tells you that there's a problem, and running `git status` after the merge reminds you which files have conflicts that you need to resolve by printing `both modified`: beside the files' names.\n",
    "\n",
    "Inside the file, Git leaves markers that look like this to tell you where the conflicts occurred:\n",
    "\n",
    "    <<<<<<< destination-branch-name\n",
    "    ...changes from the destination branch...\n",
    "    =======\n",
    "    ...changes from the source branch...\n",
    "    >>>>>>> source-branch-name\n",
    "\n",
    "In many cases, the destination branch name will be `HEAD` because you will be merging into the current branch. To resolve the conflict, edit the file to remove the markers and make whatever other changes are needed to reconcile the changes, then commit those changes.\n",
    "\n",
    "```shell\n",
    "$ git branch\n",
    "  alter-report-title\n",
    "* master\n",
    "  summary-statistics\n",
    "$ git merge alter-report-title master\n",
    "Auto-merging report.txt\n",
    "CONFLICT (content): Merge conflict in report.txt\n",
    "Automatic merge failed; fix conflicts and then commit the result.\n",
    "$ git status\n",
    "On branch master\n",
    "You have unmerged paths.\n",
    "  (fix conflicts and run \"git commit\")\n",
    "  \n",
    "Unmerged paths:\n",
    "  (use \"git add <file>...\" to mark resolution)\n",
    "  \n",
    "    both modified: report.txt\n",
    "    \n",
    "no changes added to commit (use \"git add\" and/or \"git commit -a\")\n",
    "```\n",
    "![](conflict.png)\n",
    "```shell\n",
    "$ nano report.txt  # open and fix conflicts, delete all (1,2,3,5 lines) except content in master branch\n",
    "$ git add report.txt\n",
    "$ git commit  # open editor to leave a long message\n",
    "[master 5dfc932] Merge branch 'alter-report-title' into master\n",
    "```\n",
    "master\n",
    "![](master.png)\n",
    "alter-report-title\n",
    "![](alter-report-title.png)\n"
   ]
  },
  {
   "cell_type": "markdown",
   "metadata": {},
   "source": [
    "## ***Collaborating***\n",
    "\n",
    "```shell\n",
    "$ git init ...\n",
    "$ git clone ...\n",
    "$ git remote ...\n",
    "$ git pull ...\n",
    "$ git push ...\n",
    "```"
   ]
  },
  {
   "cell_type": "markdown",
   "metadata": {},
   "source": [
    "### How can I create a brand new repository?\n",
    "\n",
    "So far, you have been working with pre-existing repositories. If you want to create a repository for a new project in the current working directory, you can simply say `git init project-name`, where \"project-name\" is the name you want the new repository's root directory to have.\n",
    "\n",
    "One thing you should not do is create one Git repository inside another. While Git does allow this, updating **nested repositories** becomes very complicated very quickly, since you need to tell Git which of the two .git directories the update is to be stored in. ***Very large projects occasionally need to do this, but most programmers and data analysts try to avoid getting into this situation.***\n",
    "\n",
    "```shell\n",
    "$ pwd  # under dental repo\n",
    "/home/repl/dental\n",
    "$ ls  # .git under dental repo\n",
    ". .. .git bin data report.txt results\n",
    "# # create a optical project from a lower(close to root level) level\n",
    "$ git init /home/repl/optical \n",
    "Initialized empty Git repository in home/repl/optical/.git/\n",
    "```"
   ]
  },
  {
   "cell_type": "markdown",
   "metadata": {},
   "source": [
    "### How can I turn an existing project into a Git repository? `git init /path/project`\n",
    "\n",
    "Experienced Git users instinctively start new projects by creating repositories. If you are new to Git, though, or working with people who are, you will often want to convert existing projects into repositories. Doing so is simple, just run:\n",
    "\n",
    "`$ git init`\n",
    "\n",
    "in the project's root directory, or:\n",
    "\n",
    "`$ git init /path/to/project`\n",
    "\n",
    "from anywhere else on your computer.\n",
    "\n",
    "```shell\n",
    "$ git init\n",
    "Initialized empty Git repository in home/repl/dental/.git/\n",
    "$ git status  # to checkout the status of your new created repo\n",
    "... ...\n",
    "```"
   ]
  },
  {
   "cell_type": "markdown",
   "metadata": {},
   "source": [
    "### How can I create a copy of an existing repository?  `git clone repo-URL [new_project]`\n",
    "\n",
    "Sometimes you will join a project that is already running, inherit a project from someone else, or continue working on one of your own projects on a new machine. In each case, you will clone an existing repository instead of creating a new one. Cloning a repository does exactly what the name suggests: it creates a copy of an existing repository (including all of its history) in a new directory.\n",
    "\n",
    "To clone a repository, use the command `git clone URL`, where `URL` identifies the repository you want to clone. This will normally be something like\n",
    "\n",
    "`https://github.com/datacamp/project.git`\n",
    "\n",
    "but for this lesson, we will use a repository on the local file system, so you can just use a path to that directory. When you clone a repository, Git uses the name of the existing repository as the name of the clone's root directory, for example:\n",
    "\n",
    "`$ git clone /existing/project`\n",
    "\n",
    "will create a new directory called project inside your home directory. If you want to call the clone something else, add the directory name you want to the command:\n",
    "\n",
    "`$ git clone /existing/project newprojectname`\n",
    "\n",
    "```shell\n",
    "$ git clone /home/thunk/repo dental  # clone repo to create dental\n",
    "Cloning into 'dental'...\n",
    "done.\n",
    "```\n"
   ]
  },
  {
   "cell_type": "markdown",
   "metadata": {},
   "source": [
    "### How can I find out where a cloned repository originated?  `git remote -v`\n",
    "\n",
    "When you a clone a repository, Git remembers where the original repository was. It does this by storing a **remote** in the new repository's configuration. A remote is like a browser bookmark with a name and a URL.\n",
    "\n",
    "If you use an online git repository hosting service like GitHub or Bitbucket, a common task would be that you clone a repository from that site to work locally on your computer. Then the copy on the website is the remote.\n",
    "\n",
    "If you are in a repository, you can list the names of its remotes using `git remote`.\n",
    "\n",
    "If you want more information, you can use `git remote -v` (for \"verbose\"), which shows the remote's URLs. Note that \"URLs\" is plural: ***it's possible for a remote to have several URLs associated with it for different purposes, though in practice each remote is almost always paired with just one URL.***\n",
    "\n",
    "```shell\n",
    "$ cd dental\n",
    "$ git remote -v\n",
    "orignin /home/thunk/repo (fetch)\n",
    "orignin /home/thunk/repo (push)\n",
    "```"
   ]
  },
  {
   "cell_type": "markdown",
   "metadata": {},
   "source": [
    "### How can I define remotes?  `git remote add remote-name URL`, `git remote rm remote-name`\n",
    "\n",
    "When you clone a repository, Git automatically creates a remote called `origin` that points to the original repository. You can add more remotes using:\n",
    "\n",
    "`$ git remote add remote-name URL`\n",
    "\n",
    "and remove existing ones using:\n",
    "\n",
    "`$ git remote rm remote-name`\n",
    "\n",
    "You can connect any two Git repositories this way, but in practice, you will almost always connect repositories that share some common ancestry.\n",
    "\n",
    "```shell\n",
    "$ cd dental\n",
    "$ git remote add thunk /home/thunk/repo\n",
    "\n",
    "```"
   ]
  },
  {
   "cell_type": "markdown",
   "metadata": {},
   "source": [
    "### How can I pull in changes from a remote repository?  `git pull <repo> <branch>`\n",
    "\n",
    "Git keeps track of remote repositories so that you can pull changes from those repositories and **push** changes to them.\n",
    "\n",
    "Recall that the remote repository is often a repository in an online hosting service like GitHub. A typical workflow is that you pull in your collaborators' work from the remote repository so you have the latest version of everything, do some work yourself, then push your work back to the remote so that your collaborators have access to it.\n",
    "\n",
    "Pulling changes is straightforward: the command `git pull remote branch` gets everything in `branch` in the remote repository identified by `remote` and merges it into the current branch of your local repository. For example, if you are in the `quarterly-report` branch of your local repository, the command:\n",
    "\n",
    "`$ git pull thunk latest-analysis  # remote branch/repo 'thunk'`\n",
    "\n",
    "would get changes from `latest-analysis` branch in the repository associated with the remote called `thunk` and merge them into your `quarterly-report` branch.\n",
    "\n",
    "\n",
    "You are in the `master` branch of the repository `dental`. Pull the changes from the `master` branch of the remote repository called `origin`.\n",
    "```shell\n",
    "$ git pull origin master\n",
    "From /home/thunk/repo\n",
    " * branch    master  -> FETCH_HEAD\n",
    "Updating a3371f7..b7ae191\n",
    "Fast-forward\n",
    " report.txt | 4 +++-\n",
    " 1 file changed, 3 insertions(+), 1 deletion(-)\n",
    "```"
   ]
  },
  {
   "cell_type": "markdown",
   "metadata": {},
   "source": [
    "### What happens if I try to pull when I have unsaved my changes?  `git pull [repo]`\n",
    "\n",
    "Just as Git stops you from switching branches when you have unsaved work, it also stops you from pulling in changes from a remote repository when doing so might overwrite things you have done locally. The fix is simple: either commit your local changes or revert them, and then try to pull again.\n",
    "\n",
    "\n",
    "```shell\n",
    "$ cd dental\n",
    "$ git pull origin  # remote repo origin\n",
    "Updating 6952cb8..b7ae191\n",
    "error: Your local changes to the following files would be overwritten by merge:\n",
    "    report.txt\n",
    "Please,  commit your changes or stash them before you can merge.\n",
    "Aborting\n",
    "$ git checkout -- .  # resets all changes to unstaged files.\n",
    "$ git pull  # repo to repo update\n",
    "Updating 6952cb8..b7ae191\n",
    " report.txt | 2 ++\n",
    " 1 file changed, 2 insertions(+)\n",
    "```"
   ]
  },
  {
   "cell_type": "markdown",
   "metadata": {},
   "source": [
    "### How can I push my changes to a remote repository?  `git push <remote> <branch>`\n",
    "\n",
    "The complement of `git pull` is `git push`, which pushes the changes you have made locally into a remote repository. The most common way to use it is:\n",
    "\n",
    "`$ git push remote-name branch-name`\n",
    "\n",
    "which pushes the contents of your branch `branch-name` into a branch with the same name in the remote repository associated with `remote-name`. It's possible to use different branch names at your end and the remote's end, but doing this quickly becomes confusing: it's almost always better to use the same names for branches across repositories.\n",
    "\n",
    "```shell\n",
    "$ cd dental\n",
    "$ git add data/northern.csv  # add modified northern to stage\n",
    "$ git commit -m \"Added more northern data.\"\n",
    "[master eb4a3c6] Added more northern data.\n",
    " 1 file changed, 1 insertion(+)\n",
    "$ git push origin master  # push changes to remote origin, master branch\n",
    "Counting objects: 4, done.\n",
    "Delta compression using up to 4 threads.\n",
    "Compressing objects: 100% (4/4), done.\n",
    "Writing objects: 100% (4/4), 371 bytes | 0 bytes/s, done.\n",
    "Total 4 (delta 3), reused 0 (delta 0)\n",
    "To /home/thunk/repo\n",
    "  b7ae191..eb4a3c6  master -> master\n",
    "```"
   ]
  },
  {
   "cell_type": "markdown",
   "metadata": {},
   "source": [
    "### What happens if my push conflicts with someone else's work?\n",
    "\n",
    "***Overwriting your own work by accident is bad; overwriting someone else's is worse.***\n",
    "\n",
    "To prevent this happening, Git does not allow you to push changes to a remote repository unless you have merged the contents of the remote repository into your own work.\n",
    "\n",
    "```shell\n",
    "$ cd dental\n",
    "$ git add data/northern.csv  # add modified northern to stage\n",
    "$ git commit -m \"Added a record.\"\n",
    "[master 9d825ce] Added a record.\n",
    " 1 file changed, 1 insertion(+)\n",
    "$ git push origin master\n",
    "To /home/thunk/repo\n",
    " ! [rejected]    master -> master (non-fast-forward)\n",
    "error: failed to push some refs to '/home/thunk/repo'\n",
    "hint: Updates were rejected because the tip of your current branch is behind\n",
    "hint: its remote conterpart. Integrate the remote changes (e.g.\n",
    "hint: 'git pull ...') before pushing again.\n",
    "hint: See the 'Note about fast-forwards' in 'git push --help' for details.\n",
    "$ git pull origin master  # bring your repo up to date with origin\n",
    "From /home/thunk/repo\n",
    " * branch    master  -> FETCH_HEAD\n",
    "Already up-to-date.\n",
    "$ git push origin master  # push changes to remote origin, master branch\n",
    "Counting objects: 2, done.\n",
    "Delta compression using up to 4 threads.\n",
    "Compressing objects: 100% (2/2), done.\n",
    "Writing objects: 100% (2/2), 328 bytes | 0 bytes/s, done.\n",
    "Total 2 (delta 1), reused 0 (delta 0)\n",
    "To /home/thunk/repo\n",
    "  eb4a3c6..1bf3936  master -> master\n",
    "```"
   ]
  },
  {
   "cell_type": "code",
   "execution_count": null,
   "metadata": {},
   "outputs": [],
   "source": []
  },
  {
   "cell_type": "code",
   "execution_count": null,
   "metadata": {},
   "outputs": [],
   "source": []
  },
  {
   "cell_type": "code",
   "execution_count": null,
   "metadata": {},
   "outputs": [],
   "source": []
  }
 ],
 "metadata": {
  "kernelspec": {
   "display_name": "Python 3",
   "language": "python",
   "name": "python3"
  },
  "language_info": {
   "codemirror_mode": {
    "name": "ipython",
    "version": 3
   },
   "file_extension": ".py",
   "mimetype": "text/x-python",
   "name": "python",
   "nbconvert_exporter": "python",
   "pygments_lexer": "ipython3",
   "version": "3.7.4"
  },
  "toc": {
   "base_numbering": 1,
   "nav_menu": {},
   "number_sections": false,
   "sideBar": true,
   "skip_h1_title": false,
   "title_cell": "Table of Contents",
   "title_sidebar": "Contents",
   "toc_cell": false,
   "toc_position": {
    "height": "calc(100% - 180px)",
    "left": "10px",
    "top": "150px",
    "width": "365.4px"
   },
   "toc_section_display": true,
   "toc_window_display": false
  },
  "varInspector": {
   "cols": {
    "lenName": 16,
    "lenType": 16,
    "lenVar": 40
   },
   "kernels_config": {
    "python": {
     "delete_cmd_postfix": "",
     "delete_cmd_prefix": "del ",
     "library": "var_list.py",
     "varRefreshCmd": "print(var_dic_list())"
    },
    "r": {
     "delete_cmd_postfix": ") ",
     "delete_cmd_prefix": "rm(",
     "library": "var_list.r",
     "varRefreshCmd": "cat(var_dic_list()) "
    }
   },
   "types_to_exclude": [
    "module",
    "function",
    "builtin_function_or_method",
    "instance",
    "_Feature"
   ],
   "window_display": false
  }
 },
 "nbformat": 4,
 "nbformat_minor": 2
}
